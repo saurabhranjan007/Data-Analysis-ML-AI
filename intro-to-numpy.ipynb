{
 "cells": [
  {
   "cell_type": "markdown",
   "id": "fb6c124b-81aa-48bd-80b9-1e631fb4fb88",
   "metadata": {},
   "source": [
    "## Numpy "
   ]
  },
  {
   "cell_type": "code",
   "execution_count": 6,
   "id": "0cfca821-d641-4e96-9ee5-b2ca604595a6",
   "metadata": {},
   "outputs": [],
   "source": [
    "import numpy as np "
   ]
  },
  {
   "cell_type": "markdown",
   "id": "63d9f6db-aa20-416f-8179-c3856dde6722",
   "metadata": {
    "jp-MarkdownHeadingCollapsed": true
   },
   "source": [
    "### Focusing on Data Types & Attributes "
   ]
  },
  {
   "cell_type": "code",
   "execution_count": 7,
   "id": "3bfb697a-d19e-4a4d-9208-6062a11ea848",
   "metadata": {},
   "outputs": [],
   "source": [
    "# Numpy's main datatypes: ndarray "
   ]
  },
  {
   "cell_type": "code",
   "execution_count": 8,
   "id": "98588bd8-9b16-441f-9eef-dc33764bd709",
   "metadata": {},
   "outputs": [],
   "source": [
    "a1 = np.array([1,2,1,2,54,5])"
   ]
  },
  {
   "cell_type": "code",
   "execution_count": 9,
   "id": "8782db13-d804-444e-8196-0f61507e01c6",
   "metadata": {},
   "outputs": [
    {
     "data": {
      "text/plain": [
       "array([ 1,  2,  1,  2, 54,  5])"
      ]
     },
     "execution_count": 9,
     "metadata": {},
     "output_type": "execute_result"
    }
   ],
   "source": [
    "a1"
   ]
  },
  {
   "cell_type": "code",
   "execution_count": 10,
   "id": "5d2f2bba-9a3f-439f-98cc-7150ca11de25",
   "metadata": {},
   "outputs": [
    {
     "data": {
      "text/plain": [
       "numpy.ndarray"
      ]
     },
     "execution_count": 10,
     "metadata": {},
     "output_type": "execute_result"
    }
   ],
   "source": [
    "type(a1)"
   ]
  },
  {
   "cell_type": "code",
   "execution_count": 11,
   "id": "a12a3fba-c454-4371-b6dc-0e76903cfda0",
   "metadata": {},
   "outputs": [],
   "source": [
    "# 2 dimensional arr "
   ]
  },
  {
   "cell_type": "code",
   "execution_count": 12,
   "id": "70593221-3c3a-48a1-8f76-abb9fb9b026d",
   "metadata": {},
   "outputs": [],
   "source": [
    "a2 = np.array([[1,2,3,5,4,88], [5,8,7,5,45,4758]])"
   ]
  },
  {
   "cell_type": "code",
   "execution_count": 13,
   "id": "c250d22d-9678-44f1-8e9f-f4aa2d29d2af",
   "metadata": {},
   "outputs": [
    {
     "data": {
      "text/plain": [
       "array([[   1,    2,    3,    5,    4,   88],\n",
       "       [   5,    8,    7,    5,   45, 4758]])"
      ]
     },
     "execution_count": 13,
     "metadata": {},
     "output_type": "execute_result"
    }
   ],
   "source": [
    "a2"
   ]
  },
  {
   "cell_type": "code",
   "execution_count": 14,
   "id": "113a8798-2562-4539-9151-05ed58eea749",
   "metadata": {},
   "outputs": [
    {
     "data": {
      "text/plain": [
       "numpy.ndarray"
      ]
     },
     "execution_count": 14,
     "metadata": {},
     "output_type": "execute_result"
    }
   ],
   "source": [
    "type(a2)"
   ]
  },
  {
   "cell_type": "code",
   "execution_count": 15,
   "id": "eaa35e51-0afc-4576-a998-1bc289fee5cb",
   "metadata": {},
   "outputs": [],
   "source": [
    "a3 = np.array([[[12,2,54,5], [5,5,4,5], [7,8,5,75]]])"
   ]
  },
  {
   "cell_type": "code",
   "execution_count": 16,
   "id": "d06f8353-8177-45b6-9e39-4d16795cd2ee",
   "metadata": {},
   "outputs": [
    {
     "data": {
      "text/plain": [
       "array([[[12,  2, 54,  5],\n",
       "        [ 5,  5,  4,  5],\n",
       "        [ 7,  8,  5, 75]]])"
      ]
     },
     "execution_count": 16,
     "metadata": {},
     "output_type": "execute_result"
    }
   ],
   "source": [
    "a3"
   ]
  },
  {
   "cell_type": "code",
   "execution_count": 17,
   "id": "f9973642-591b-4471-bfda-cb315dd8eb9a",
   "metadata": {},
   "outputs": [
    {
     "data": {
      "text/plain": [
       "numpy.ndarray"
      ]
     },
     "execution_count": 17,
     "metadata": {},
     "output_type": "execute_result"
    }
   ],
   "source": [
    "type(a3)"
   ]
  },
  {
   "cell_type": "code",
   "execution_count": 18,
   "id": "0fff281a-af3f-4eba-8ee4-a5a221d984fd",
   "metadata": {},
   "outputs": [
    {
     "data": {
      "text/plain": [
       "((6,), (2, 6), (1, 3, 4))"
      ]
     },
     "execution_count": 18,
     "metadata": {},
     "output_type": "execute_result"
    }
   ],
   "source": [
    "# Getting the shape of the arrays \n",
    "a1.shape, a2.shape, a3.shape"
   ]
  },
  {
   "cell_type": "code",
   "execution_count": 19,
   "id": "4597e4b1-d6a7-4e8e-bbed-e237677786d5",
   "metadata": {},
   "outputs": [
    {
     "data": {
      "text/plain": [
       "(1, 2, 3)"
      ]
     },
     "execution_count": 19,
     "metadata": {},
     "output_type": "execute_result"
    }
   ],
   "source": [
    "# Getting the dimension of the array \n",
    "a1.ndim, a2.ndim, a3.ndim"
   ]
  },
  {
   "cell_type": "code",
   "execution_count": 20,
   "id": "defd9250-3418-4bb4-a5e7-0882222df3f6",
   "metadata": {},
   "outputs": [
    {
     "data": {
      "text/plain": [
       "(6, 12, 12)"
      ]
     },
     "execution_count": 20,
     "metadata": {},
     "output_type": "execute_result"
    }
   ],
   "source": [
    "# Size of the data (number of elements)\n",
    "a1.size, a2.size, a3.size"
   ]
  },
  {
   "cell_type": "code",
   "execution_count": 21,
   "id": "6688e8a2-8ef0-4645-a025-66b369aadd12",
   "metadata": {},
   "outputs": [],
   "source": [
    "# Crearting a data frame from a Numpy Array \n",
    "\n",
    "import pandas as pd"
   ]
  },
  {
   "cell_type": "code",
   "execution_count": 22,
   "id": "20a986eb-2fbc-45f0-b4d0-4d2aa29a25e7",
   "metadata": {},
   "outputs": [],
   "source": [
    "# df_a1 = pd.DataFrame(a1)\n",
    "# df_a2 = pd.DataFrame(a2)\n",
    "# df_a3 = pd.DataFrame(a3)"
   ]
  },
  {
   "cell_type": "code",
   "execution_count": 23,
   "id": "c524bd28-643a-43c3-ae55-7c149c55ad67",
   "metadata": {},
   "outputs": [],
   "source": [
    "# df_a1,  \n",
    "# df_a2, \n",
    "# df_a3"
   ]
  },
  {
   "cell_type": "code",
   "execution_count": 24,
   "id": "c4c19db1-ebd8-466e-ac34-8406fcb9bd8e",
   "metadata": {},
   "outputs": [
    {
     "data": {
      "text/html": [
       "<div>\n",
       "<style scoped>\n",
       "    .dataframe tbody tr th:only-of-type {\n",
       "        vertical-align: middle;\n",
       "    }\n",
       "\n",
       "    .dataframe tbody tr th {\n",
       "        vertical-align: top;\n",
       "    }\n",
       "\n",
       "    .dataframe thead th {\n",
       "        text-align: right;\n",
       "    }\n",
       "</style>\n",
       "<table border=\"1\" class=\"dataframe\">\n",
       "  <thead>\n",
       "    <tr style=\"text-align: right;\">\n",
       "      <th></th>\n",
       "      <th>0</th>\n",
       "      <th>1</th>\n",
       "      <th>2</th>\n",
       "      <th>3</th>\n",
       "      <th>4</th>\n",
       "      <th>5</th>\n",
       "    </tr>\n",
       "  </thead>\n",
       "  <tbody>\n",
       "    <tr>\n",
       "      <th>0</th>\n",
       "      <td>1</td>\n",
       "      <td>2</td>\n",
       "      <td>3</td>\n",
       "      <td>5</td>\n",
       "      <td>4</td>\n",
       "      <td>88</td>\n",
       "    </tr>\n",
       "    <tr>\n",
       "      <th>1</th>\n",
       "      <td>5</td>\n",
       "      <td>8</td>\n",
       "      <td>7</td>\n",
       "      <td>5</td>\n",
       "      <td>45</td>\n",
       "      <td>4758</td>\n",
       "    </tr>\n",
       "  </tbody>\n",
       "</table>\n",
       "</div>"
      ],
      "text/plain": [
       "   0  1  2  3   4     5\n",
       "0  1  2  3  5   4    88\n",
       "1  5  8  7  5  45  4758"
      ]
     },
     "execution_count": 24,
     "metadata": {},
     "output_type": "execute_result"
    }
   ],
   "source": [
    "df = pd.DataFrame(a2)\n",
    "df"
   ]
  },
  {
   "cell_type": "markdown",
   "id": "cd43869e-ea02-4f9b-8764-db87b68d4cba",
   "metadata": {
    "jp-MarkdownHeadingCollapsed": true
   },
   "source": [
    "### Creating Arrays: Numpy's "
   ]
  },
  {
   "cell_type": "code",
   "execution_count": 25,
   "id": "93ead306-e73a-424a-960f-fab8d63836ee",
   "metadata": {},
   "outputs": [
    {
     "data": {
      "text/plain": [
       "(array([ 1,  5, 47, 54]), '|', dtype('int64'))"
      ]
     },
     "execution_count": 25,
     "metadata": {},
     "output_type": "execute_result"
    }
   ],
   "source": [
    "# Custom sample arr \n",
    "\n",
    "sample_arr = np.array([1,5,47,54,])\n",
    "sample_arr, \"|\" ,  sample_arr.dtype"
   ]
  },
  {
   "cell_type": "code",
   "execution_count": 26,
   "id": "61d012d2-6136-4614-96c1-bcbff505f296",
   "metadata": {},
   "outputs": [
    {
     "data": {
      "text/plain": [
       "array([[1., 1., 1.],\n",
       "       [1., 1., 1.]])"
      ]
     },
     "execution_count": 26,
     "metadata": {},
     "output_type": "execute_result"
    }
   ],
   "source": [
    "# Creating array with prefilled data \n",
    "\n",
    "ones = np.ones((2, 3))\n",
    "ones\n",
    "# pd.DataFrame(ones)"
   ]
  },
  {
   "cell_type": "code",
   "execution_count": 27,
   "id": "55fcb796-cb37-49ef-9f3e-14bf68874fce",
   "metadata": {},
   "outputs": [
    {
     "data": {
      "text/plain": [
       "(dtype('float64'), numpy.ndarray)"
      ]
     },
     "execution_count": 27,
     "metadata": {},
     "output_type": "execute_result"
    }
   ],
   "source": [
    "ones.dtype, type(ones)"
   ]
  },
  {
   "cell_type": "code",
   "execution_count": 28,
   "id": "ad5c0d31-fb6d-41bf-9145-b318c1c72b94",
   "metadata": {},
   "outputs": [
    {
     "data": {
      "text/plain": [
       "array([[0., 0., 0., 0., 0.],\n",
       "       [0., 0., 0., 0., 0.]])"
      ]
     },
     "execution_count": 28,
     "metadata": {},
     "output_type": "execute_result"
    }
   ],
   "source": [
    "# New Array with Zeros \n",
    "\n",
    "zeros = np.zeros((2, 5))\n",
    "zeros"
   ]
  },
  {
   "cell_type": "code",
   "execution_count": 29,
   "id": "60b4d64f-c37e-4778-adb7-f6d4e6f6875a",
   "metadata": {},
   "outputs": [
    {
     "data": {
      "text/html": [
       "<div>\n",
       "<style scoped>\n",
       "    .dataframe tbody tr th:only-of-type {\n",
       "        vertical-align: middle;\n",
       "    }\n",
       "\n",
       "    .dataframe tbody tr th {\n",
       "        vertical-align: top;\n",
       "    }\n",
       "\n",
       "    .dataframe thead th {\n",
       "        text-align: right;\n",
       "    }\n",
       "</style>\n",
       "<table border=\"1\" class=\"dataframe\">\n",
       "  <thead>\n",
       "    <tr style=\"text-align: right;\">\n",
       "      <th></th>\n",
       "      <th>0</th>\n",
       "      <th>1</th>\n",
       "      <th>2</th>\n",
       "      <th>3</th>\n",
       "      <th>4</th>\n",
       "    </tr>\n",
       "  </thead>\n",
       "  <tbody>\n",
       "    <tr>\n",
       "      <th>0</th>\n",
       "      <td>0.0</td>\n",
       "      <td>0.0</td>\n",
       "      <td>0.0</td>\n",
       "      <td>0.0</td>\n",
       "      <td>0.0</td>\n",
       "    </tr>\n",
       "    <tr>\n",
       "      <th>1</th>\n",
       "      <td>0.0</td>\n",
       "      <td>0.0</td>\n",
       "      <td>0.0</td>\n",
       "      <td>0.0</td>\n",
       "      <td>0.0</td>\n",
       "    </tr>\n",
       "  </tbody>\n",
       "</table>\n",
       "</div>"
      ],
      "text/plain": [
       "     0    1    2    3    4\n",
       "0  0.0  0.0  0.0  0.0  0.0\n",
       "1  0.0  0.0  0.0  0.0  0.0"
      ]
     },
     "execution_count": 29,
     "metadata": {},
     "output_type": "execute_result"
    }
   ],
   "source": [
    "pd.DataFrame(zeros)"
   ]
  },
  {
   "cell_type": "code",
   "execution_count": 30,
   "id": "593fcdf3-4486-4589-a4d0-cf426091a9b4",
   "metadata": {},
   "outputs": [
    {
     "data": {
      "text/plain": [
       "(array([0, 2, 4, 6, 8]), array([ 0,  4,  8, 12, 16]))"
      ]
     },
     "execution_count": 30,
     "metadata": {},
     "output_type": "execute_result"
    }
   ],
   "source": [
    "# Creating a range arr \n",
    "\n",
    "range_arr = (np.arange(0, 10, 2), np.arange(0, 20, 4))\n",
    "range_arr"
   ]
  },
  {
   "cell_type": "code",
   "execution_count": 31,
   "id": "5364dffb-f772-4d2f-93f2-f28a9850b294",
   "metadata": {},
   "outputs": [
    {
     "data": {
      "text/html": [
       "<div>\n",
       "<style scoped>\n",
       "    .dataframe tbody tr th:only-of-type {\n",
       "        vertical-align: middle;\n",
       "    }\n",
       "\n",
       "    .dataframe tbody tr th {\n",
       "        vertical-align: top;\n",
       "    }\n",
       "\n",
       "    .dataframe thead th {\n",
       "        text-align: right;\n",
       "    }\n",
       "</style>\n",
       "<table border=\"1\" class=\"dataframe\">\n",
       "  <thead>\n",
       "    <tr style=\"text-align: right;\">\n",
       "      <th></th>\n",
       "      <th>0</th>\n",
       "      <th>1</th>\n",
       "      <th>2</th>\n",
       "      <th>3</th>\n",
       "      <th>4</th>\n",
       "    </tr>\n",
       "  </thead>\n",
       "  <tbody>\n",
       "    <tr>\n",
       "      <th>0</th>\n",
       "      <td>0</td>\n",
       "      <td>2</td>\n",
       "      <td>4</td>\n",
       "      <td>6</td>\n",
       "      <td>8</td>\n",
       "    </tr>\n",
       "    <tr>\n",
       "      <th>1</th>\n",
       "      <td>0</td>\n",
       "      <td>4</td>\n",
       "      <td>8</td>\n",
       "      <td>12</td>\n",
       "      <td>16</td>\n",
       "    </tr>\n",
       "  </tbody>\n",
       "</table>\n",
       "</div>"
      ],
      "text/plain": [
       "   0  1  2   3   4\n",
       "0  0  2  4   6   8\n",
       "1  0  4  8  12  16"
      ]
     },
     "execution_count": 31,
     "metadata": {},
     "output_type": "execute_result"
    }
   ],
   "source": [
    "pd.DataFrame(range_arr)"
   ]
  },
  {
   "cell_type": "code",
   "execution_count": 32,
   "id": "35b7b040-27c5-4383-9434-5ef1c245f4eb",
   "metadata": {},
   "outputs": [
    {
     "data": {
      "text/plain": [
       "array([[13,  8, 26,  5, 28],\n",
       "       [11,  6,  5, 24,  7],\n",
       "       [ 9,  6,  2, 12,  7]])"
      ]
     },
     "execution_count": 32,
     "metadata": {},
     "output_type": "execute_result"
    }
   ],
   "source": [
    "random_arr = np.random.randint(0, 30, size=(3,5))\n",
    "random_arr"
   ]
  },
  {
   "cell_type": "code",
   "execution_count": 33,
   "id": "770ca1ad-ba74-4e7d-b92c-12e57c82680e",
   "metadata": {},
   "outputs": [
    {
     "data": {
      "text/html": [
       "<div>\n",
       "<style scoped>\n",
       "    .dataframe tbody tr th:only-of-type {\n",
       "        vertical-align: middle;\n",
       "    }\n",
       "\n",
       "    .dataframe tbody tr th {\n",
       "        vertical-align: top;\n",
       "    }\n",
       "\n",
       "    .dataframe thead th {\n",
       "        text-align: right;\n",
       "    }\n",
       "</style>\n",
       "<table border=\"1\" class=\"dataframe\">\n",
       "  <thead>\n",
       "    <tr style=\"text-align: right;\">\n",
       "      <th></th>\n",
       "      <th>0</th>\n",
       "      <th>1</th>\n",
       "      <th>2</th>\n",
       "      <th>3</th>\n",
       "      <th>4</th>\n",
       "    </tr>\n",
       "  </thead>\n",
       "  <tbody>\n",
       "    <tr>\n",
       "      <th>0</th>\n",
       "      <td>13</td>\n",
       "      <td>8</td>\n",
       "      <td>26</td>\n",
       "      <td>5</td>\n",
       "      <td>28</td>\n",
       "    </tr>\n",
       "    <tr>\n",
       "      <th>1</th>\n",
       "      <td>11</td>\n",
       "      <td>6</td>\n",
       "      <td>5</td>\n",
       "      <td>24</td>\n",
       "      <td>7</td>\n",
       "    </tr>\n",
       "    <tr>\n",
       "      <th>2</th>\n",
       "      <td>9</td>\n",
       "      <td>6</td>\n",
       "      <td>2</td>\n",
       "      <td>12</td>\n",
       "      <td>7</td>\n",
       "    </tr>\n",
       "  </tbody>\n",
       "</table>\n",
       "</div>"
      ],
      "text/plain": [
       "    0  1   2   3   4\n",
       "0  13  8  26   5  28\n",
       "1  11  6   5  24   7\n",
       "2   9  6   2  12   7"
      ]
     },
     "execution_count": 33,
     "metadata": {},
     "output_type": "execute_result"
    }
   ],
   "source": [
    "pd.DataFrame(random_arr)"
   ]
  },
  {
   "cell_type": "code",
   "execution_count": 34,
   "id": "ab66c380-cbf2-4d4a-8b8b-064ad6a8332e",
   "metadata": {},
   "outputs": [
    {
     "data": {
      "text/plain": [
       "(15, dtype('int64'))"
      ]
     },
     "execution_count": 34,
     "metadata": {},
     "output_type": "execute_result"
    }
   ],
   "source": [
    "random_arr.size, random_arr.dtype"
   ]
  },
  {
   "cell_type": "code",
   "execution_count": 35,
   "id": "fe6bb0fa-eb08-4d9e-95fa-5cfa0aae9fa7",
   "metadata": {},
   "outputs": [
    {
     "data": {
      "text/plain": [
       "array([[0.35883666, 0.56299358, 0.6599501 , 0.92747002, 0.27099229],\n",
       "       [0.30029373, 0.99753263, 0.35014614, 0.40232704, 0.14245219],\n",
       "       [0.7985399 , 0.44934698, 0.87389458, 0.15698518, 0.26741025]])"
      ]
     },
     "execution_count": 35,
     "metadata": {},
     "output_type": "execute_result"
    }
   ],
   "source": [
    "random_arr2 = np.random.random(size=(3,5))\n",
    "random_arr2"
   ]
  },
  {
   "cell_type": "code",
   "execution_count": 36,
   "id": "ea03de13-db4b-47ef-b713-ed4fa5e71c4f",
   "metadata": {},
   "outputs": [
    {
     "data": {
      "text/html": [
       "<div>\n",
       "<style scoped>\n",
       "    .dataframe tbody tr th:only-of-type {\n",
       "        vertical-align: middle;\n",
       "    }\n",
       "\n",
       "    .dataframe tbody tr th {\n",
       "        vertical-align: top;\n",
       "    }\n",
       "\n",
       "    .dataframe thead th {\n",
       "        text-align: right;\n",
       "    }\n",
       "</style>\n",
       "<table border=\"1\" class=\"dataframe\">\n",
       "  <thead>\n",
       "    <tr style=\"text-align: right;\">\n",
       "      <th></th>\n",
       "      <th>0</th>\n",
       "      <th>1</th>\n",
       "      <th>2</th>\n",
       "      <th>3</th>\n",
       "      <th>4</th>\n",
       "    </tr>\n",
       "  </thead>\n",
       "  <tbody>\n",
       "    <tr>\n",
       "      <th>0</th>\n",
       "      <td>0.358837</td>\n",
       "      <td>0.562994</td>\n",
       "      <td>0.659950</td>\n",
       "      <td>0.927470</td>\n",
       "      <td>0.270992</td>\n",
       "    </tr>\n",
       "    <tr>\n",
       "      <th>1</th>\n",
       "      <td>0.300294</td>\n",
       "      <td>0.997533</td>\n",
       "      <td>0.350146</td>\n",
       "      <td>0.402327</td>\n",
       "      <td>0.142452</td>\n",
       "    </tr>\n",
       "    <tr>\n",
       "      <th>2</th>\n",
       "      <td>0.798540</td>\n",
       "      <td>0.449347</td>\n",
       "      <td>0.873895</td>\n",
       "      <td>0.156985</td>\n",
       "      <td>0.267410</td>\n",
       "    </tr>\n",
       "  </tbody>\n",
       "</table>\n",
       "</div>"
      ],
      "text/plain": [
       "          0         1         2         3         4\n",
       "0  0.358837  0.562994  0.659950  0.927470  0.270992\n",
       "1  0.300294  0.997533  0.350146  0.402327  0.142452\n",
       "2  0.798540  0.449347  0.873895  0.156985  0.267410"
      ]
     },
     "execution_count": 36,
     "metadata": {},
     "output_type": "execute_result"
    }
   ],
   "source": [
    "pd.DataFrame(random_arr2)"
   ]
  },
  {
   "cell_type": "code",
   "execution_count": 37,
   "id": "a6deccd2-df12-4bf9-ab82-1cd5a8003028",
   "metadata": {},
   "outputs": [
    {
     "data": {
      "text/plain": [
       "array([[0.54550372, 0.25462466, 0.08563068, 0.31292455, 0.06261281],\n",
       "       [0.93955759, 0.05464836, 0.23592273, 0.97864916, 0.27561843],\n",
       "       [0.15232226, 0.33463745, 0.84081424, 0.32221779, 0.0618291 ]])"
      ]
     },
     "execution_count": 37,
     "metadata": {},
     "output_type": "execute_result"
    }
   ],
   "source": [
    "random_arr3 = np.random.rand(3, 5)\n",
    "random_arr3"
   ]
  },
  {
   "cell_type": "code",
   "execution_count": 38,
   "id": "8e099603-beed-448c-ba86-bfc102cca7d3",
   "metadata": {},
   "outputs": [
    {
     "data": {
      "text/html": [
       "<div>\n",
       "<style scoped>\n",
       "    .dataframe tbody tr th:only-of-type {\n",
       "        vertical-align: middle;\n",
       "    }\n",
       "\n",
       "    .dataframe tbody tr th {\n",
       "        vertical-align: top;\n",
       "    }\n",
       "\n",
       "    .dataframe thead th {\n",
       "        text-align: right;\n",
       "    }\n",
       "</style>\n",
       "<table border=\"1\" class=\"dataframe\">\n",
       "  <thead>\n",
       "    <tr style=\"text-align: right;\">\n",
       "      <th></th>\n",
       "      <th>0</th>\n",
       "      <th>1</th>\n",
       "      <th>2</th>\n",
       "      <th>3</th>\n",
       "      <th>4</th>\n",
       "    </tr>\n",
       "  </thead>\n",
       "  <tbody>\n",
       "    <tr>\n",
       "      <th>0</th>\n",
       "      <td>0.545504</td>\n",
       "      <td>0.254625</td>\n",
       "      <td>0.085631</td>\n",
       "      <td>0.312925</td>\n",
       "      <td>0.062613</td>\n",
       "    </tr>\n",
       "    <tr>\n",
       "      <th>1</th>\n",
       "      <td>0.939558</td>\n",
       "      <td>0.054648</td>\n",
       "      <td>0.235923</td>\n",
       "      <td>0.978649</td>\n",
       "      <td>0.275618</td>\n",
       "    </tr>\n",
       "    <tr>\n",
       "      <th>2</th>\n",
       "      <td>0.152322</td>\n",
       "      <td>0.334637</td>\n",
       "      <td>0.840814</td>\n",
       "      <td>0.322218</td>\n",
       "      <td>0.061829</td>\n",
       "    </tr>\n",
       "  </tbody>\n",
       "</table>\n",
       "</div>"
      ],
      "text/plain": [
       "          0         1         2         3         4\n",
       "0  0.545504  0.254625  0.085631  0.312925  0.062613\n",
       "1  0.939558  0.054648  0.235923  0.978649  0.275618\n",
       "2  0.152322  0.334637  0.840814  0.322218  0.061829"
      ]
     },
     "execution_count": 38,
     "metadata": {},
     "output_type": "execute_result"
    }
   ],
   "source": [
    "pd.DataFrame(random_arr3)"
   ]
  },
  {
   "cell_type": "code",
   "execution_count": 39,
   "id": "40831e6a-f403-49c3-bbbc-f27fc69fd92d",
   "metadata": {},
   "outputs": [
    {
     "data": {
      "text/plain": [
       "array([[12, 15,  0,  3,  3],\n",
       "       [ 7,  9, 19, 18,  4],\n",
       "       [ 6, 12,  1,  6,  7],\n",
       "       [14, 17,  5, 13,  8]])"
      ]
     },
     "execution_count": 39,
     "metadata": {},
     "output_type": "execute_result"
    }
   ],
   "source": [
    "# Pseudo random numbers: helpful when you want to generate reproducable random numbers \n",
    "# If we dont't seed the random no then it will generate new ones everytime they get triggered \n",
    "\n",
    "np.random.seed(seed=0)\n",
    "\n",
    "random_arr4 = np.random.randint(0,20, size=(4,5))\n",
    "random_arr4"
   ]
  },
  {
   "cell_type": "markdown",
   "id": "a8c11559-8e3f-4653-9f92-9ce8ad0f815a",
   "metadata": {
    "jp-MarkdownHeadingCollapsed": true
   },
   "source": [
    "### Viewing Metrices and Arrays "
   ]
  },
  {
   "cell_type": "code",
   "execution_count": 40,
   "id": "b09b367b-4692-44df-826a-913b53c9d750",
   "metadata": {},
   "outputs": [
    {
     "data": {
      "text/plain": [
       "array([ 0,  1,  3,  4,  5,  6,  7,  8,  9, 12, 13, 14, 15, 17, 18, 19])"
      ]
     },
     "execution_count": 40,
     "metadata": {},
     "output_type": "execute_result"
    }
   ],
   "source": [
    "# Unique no. in an array \n",
    "\n",
    "np.unique(random_arr4)"
   ]
  },
  {
   "cell_type": "code",
   "execution_count": 41,
   "id": "fe43d1bb-586c-47b1-81c3-637e628ad4e4",
   "metadata": {},
   "outputs": [
    {
     "data": {
      "text/plain": [
       "array([[12, 15,  0,  3,  3],\n",
       "       [ 7,  9, 19, 18,  4],\n",
       "       [ 6, 12,  1,  6,  7],\n",
       "       [14, 17,  5, 13,  8]])"
      ]
     },
     "execution_count": 41,
     "metadata": {},
     "output_type": "execute_result"
    }
   ],
   "source": [
    "random_arr4"
   ]
  },
  {
   "cell_type": "code",
   "execution_count": 42,
   "id": "10083cdb-74c7-41e4-9ecc-1166b59373d4",
   "metadata": {},
   "outputs": [
    {
     "data": {
      "text/plain": [
       "array([[13,  8, 26,  5, 28],\n",
       "       [11,  6,  5, 24,  7],\n",
       "       [ 9,  6,  2, 12,  7]])"
      ]
     },
     "execution_count": 42,
     "metadata": {},
     "output_type": "execute_result"
    }
   ],
   "source": [
    "random_arr"
   ]
  },
  {
   "cell_type": "code",
   "execution_count": 43,
   "id": "5c3befc2-9739-4654-a889-6aa4c459431d",
   "metadata": {},
   "outputs": [
    {
     "data": {
      "text/plain": [
       "array([[0.35883666, 0.56299358, 0.6599501 , 0.92747002, 0.27099229],\n",
       "       [0.30029373, 0.99753263, 0.35014614, 0.40232704, 0.14245219],\n",
       "       [0.7985399 , 0.44934698, 0.87389458, 0.15698518, 0.26741025]])"
      ]
     },
     "execution_count": 43,
     "metadata": {},
     "output_type": "execute_result"
    }
   ],
   "source": [
    "random_arr2"
   ]
  },
  {
   "cell_type": "code",
   "execution_count": 44,
   "id": "e17c15b8-ccc7-400c-b32b-c141f37024b6",
   "metadata": {},
   "outputs": [
    {
     "data": {
      "text/plain": [
       "array([[0.54550372, 0.25462466, 0.08563068, 0.31292455, 0.06261281],\n",
       "       [0.93955759, 0.05464836, 0.23592273, 0.97864916, 0.27561843],\n",
       "       [0.15232226, 0.33463745, 0.84081424, 0.32221779, 0.0618291 ]])"
      ]
     },
     "execution_count": 44,
     "metadata": {},
     "output_type": "execute_result"
    }
   ],
   "source": [
    "random_arr3"
   ]
  },
  {
   "cell_type": "code",
   "execution_count": 45,
   "id": "1aab55be-42cf-4160-8c06-f4ffc6d3501d",
   "metadata": {},
   "outputs": [
    {
     "data": {
      "text/plain": [
       "array([[12, 15,  0,  3,  3],\n",
       "       [ 7,  9, 19, 18,  4],\n",
       "       [ 6, 12,  1,  6,  7],\n",
       "       [14, 17,  5, 13,  8]])"
      ]
     },
     "execution_count": 45,
     "metadata": {},
     "output_type": "execute_result"
    }
   ],
   "source": [
    "random_arr4"
   ]
  },
  {
   "cell_type": "markdown",
   "id": "1490a88f-e795-4702-ad0f-335e43ec0e35",
   "metadata": {},
   "source": [
    "### Manipulating and Comparing Arrays "
   ]
  },
  {
   "cell_type": "code",
   "execution_count": 47,
   "id": "ef7e9c3b-4014-4d6d-8896-a91acea7b82f",
   "metadata": {},
   "outputs": [],
   "source": [
    "# Arithematic"
   ]
  },
  {
   "cell_type": "code",
   "execution_count": 48,
   "id": "db5fff3a-cc46-4567-87dc-465e7d674597",
   "metadata": {},
   "outputs": [
    {
     "data": {
      "text/plain": [
       "array([ 1,  2,  1,  2, 54,  5])"
      ]
     },
     "execution_count": 48,
     "metadata": {},
     "output_type": "execute_result"
    }
   ],
   "source": [
    "a1"
   ]
  },
  {
   "cell_type": "code",
   "execution_count": 50,
   "id": "18ef50d3-557e-4ffd-97b2-1d0a1659d08b",
   "metadata": {},
   "outputs": [
    {
     "data": {
      "text/plain": [
       "array([[13,  8, 26,  5, 28],\n",
       "       [11,  6,  5, 24,  7],\n",
       "       [ 9,  6,  2, 12,  7]])"
      ]
     },
     "execution_count": 50,
     "metadata": {},
     "output_type": "execute_result"
    }
   ],
   "source": [
    "random_arr"
   ]
  },
  {
   "cell_type": "code",
   "execution_count": 51,
   "id": "4493858d-1a0d-4cc0-a2d3-05768a522873",
   "metadata": {},
   "outputs": [
    {
     "data": {
      "text/plain": [
       "array([[1., 1., 1.],\n",
       "       [1., 1., 1.]])"
      ]
     },
     "execution_count": 51,
     "metadata": {},
     "output_type": "execute_result"
    }
   ],
   "source": [
    "ones"
   ]
  },
  {
   "cell_type": "code",
   "execution_count": 52,
   "id": "dff20d2d-57aa-4292-bcec-08718b8f07aa",
   "metadata": {},
   "outputs": [
    {
     "data": {
      "text/plain": [
       "array([[0., 0., 0., 0., 0.],\n",
       "       [0., 0., 0., 0., 0.]])"
      ]
     },
     "execution_count": 52,
     "metadata": {},
     "output_type": "execute_result"
    }
   ],
   "source": [
    "zeros"
   ]
  },
  {
   "cell_type": "code",
   "execution_count": 59,
   "id": "343f2f62-1364-47ff-986f-937435bdaa27",
   "metadata": {},
   "outputs": [],
   "source": [
    "new_ones = np.ones(6)"
   ]
  },
  {
   "cell_type": "code",
   "execution_count": 60,
   "id": "171c847f-3172-45ed-b9fe-5aa1243d4baf",
   "metadata": {},
   "outputs": [
    {
     "data": {
      "text/plain": [
       "array([1., 1., 1., 1., 1., 1.])"
      ]
     },
     "execution_count": 60,
     "metadata": {},
     "output_type": "execute_result"
    }
   ],
   "source": [
    "new_ones"
   ]
  },
  {
   "cell_type": "code",
   "execution_count": 61,
   "id": "14f25cf4-c021-4c0d-824a-7807dfcedf7b",
   "metadata": {},
   "outputs": [
    {
     "data": {
      "text/plain": [
       "array([ 2.,  3.,  2.,  3., 55.,  6.])"
      ]
     },
     "execution_count": 61,
     "metadata": {},
     "output_type": "execute_result"
    }
   ],
   "source": [
    "a1 + new_ones"
   ]
  },
  {
   "cell_type": "code",
   "execution_count": 62,
   "id": "5905927c-4171-4812-9504-18da812174fd",
   "metadata": {},
   "outputs": [
    {
     "data": {
      "text/plain": [
       "array([ 0.,  1.,  0.,  1., 53.,  4.])"
      ]
     },
     "execution_count": 62,
     "metadata": {},
     "output_type": "execute_result"
    }
   ],
   "source": [
    "a1 - new_ones"
   ]
  },
  {
   "cell_type": "code",
   "execution_count": null,
   "id": "961218c3-cff5-4774-97ed-5fd03147b257",
   "metadata": {},
   "outputs": [],
   "source": []
  }
 ],
 "metadata": {
  "kernelspec": {
   "display_name": "Python 3 (ipykernel)",
   "language": "python",
   "name": "python3"
  },
  "language_info": {
   "codemirror_mode": {
    "name": "ipython",
    "version": 3
   },
   "file_extension": ".py",
   "mimetype": "text/x-python",
   "name": "python",
   "nbconvert_exporter": "python",
   "pygments_lexer": "ipython3",
   "version": "3.12.7"
  }
 },
 "nbformat": 4,
 "nbformat_minor": 5
}
